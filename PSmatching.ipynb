{
 "cells": [
  {
   "cell_type": "markdown",
   "metadata": {},
   "source": [
    "# Rebound Effect of Driving a Green Vehicle\n",
    "\n",
    "This project aims to ask the question \"Does owning an _energy efficient vehicle_ lead to longer driving distance\". Using data from [National Household Travel Survey(2017)](https://nhts.ornl.gov/), I explore how is households' driving pattern correlated with owning an _energy efficient vehicle_, which includes hybrid electric vehicles(HEV), plug-in hybrid electric vehicles(PHEV), electric vehicles(EV), and other alternative fuel vehicles. \n",
    "\n",
    "The question could be of interest to policy makers who provide financial incentives for purchasing _energy efficient vehicles_. Policy makers promote _energy efficient vehicles_ with a hope to reduce the environmental impact of driving. However, if there exists the notorious _rebound effect_, which means \"owning a green vehicle leads to more driving\", the environmental benefit of driving a green vehicle would be discounted. Therefore it would be benificial to the policy maker to detect and quantify such _rebound effect_.\n",
    "\n",
    "A main difficulty of quantifying rebound effect is \"selection bias\": households who anticipate to drive longer mileage have greater incentive to purchase energy efficient vehicles due to fuel cost saving. Not addressing this issue will result in over-estimate in the rebound effect. To alleviate such concern, I use propensity score matching method to first pair up households with similar characteristics and are equally likely to purchase energy efficient vehicles, then compair the difference of their driving distance. Since the paired households are believed to be equally likely to purchase energy efficient vehicles, the purchase decision becomes quasi-random, eliminating the selection bias.  \n",
    "\n",
    "The dataset contains information regarding to: \n",
    "* households' size, income, state, urban/rural area, number of adults, number of vehicles, etc.\n",
    "* vehicles' fuel type, size, annual mileage, etc.\n",
    "\n",
    "The following code will first import and clean the dataset, and then use propensity score matching method to calculate how much extra mileage are caused by owning a green vehicle.\n",
    "\n"
   ]
  },
  {
   "cell_type": "code",
   "execution_count": 1,
   "metadata": {
    "collapsed": true
   },
   "outputs": [],
   "source": [
    "\n",
    "import pandas as pd\n",
    "import numpy as np\n",
    "from numpy import *\n",
    "import os\n",
    "import matplotlib.pyplot as plt\n",
    "from matplotlib import rcParams\n",
    "rcParams.update({'figure.autolayout': True})\n",
    "from pymatch.Matcher import Matcher\n",
    "import statsmodels.api as sm\n",
    "import seaborn as sns\n",
    "import warnings\n",
    "warnings.filterwarnings('ignore')"
   ]
  },
  {
   "cell_type": "markdown",
   "metadata": {},
   "source": [
    "# Import and clean dataset"
   ]
  },
  {
   "cell_type": "code",
   "execution_count": 2,
   "metadata": {
    "collapsed": false
   },
   "outputs": [
    {
     "data": {
      "text/html": [
       "<div>\n",
       "<table border=\"1\" class=\"dataframe\">\n",
       "  <thead>\n",
       "    <tr style=\"text-align: right;\">\n",
       "      <th></th>\n",
       "      <th>HOUSEID</th>\n",
       "      <th>VEHID</th>\n",
       "      <th>VEHYEAR</th>\n",
       "      <th>VEHAGE</th>\n",
       "      <th>MAKE</th>\n",
       "      <th>MODEL</th>\n",
       "      <th>FUELTYPE</th>\n",
       "      <th>VEHTYPE</th>\n",
       "      <th>WHOMAIN</th>\n",
       "      <th>OD_READ</th>\n",
       "      <th>...</th>\n",
       "      <th>HH_CBSA</th>\n",
       "      <th>HBHTNRNT</th>\n",
       "      <th>HBPPOPDN</th>\n",
       "      <th>HBRESDN</th>\n",
       "      <th>HTEEMPDN</th>\n",
       "      <th>HTHTNRNT</th>\n",
       "      <th>HTPPOPDN</th>\n",
       "      <th>HTRESDN</th>\n",
       "      <th>SMPLSRCE</th>\n",
       "      <th>WTHHFIN</th>\n",
       "    </tr>\n",
       "  </thead>\n",
       "  <tbody>\n",
       "    <tr>\n",
       "      <th>0</th>\n",
       "      <td>30000007</td>\n",
       "      <td>1</td>\n",
       "      <td>2007</td>\n",
       "      <td>10</td>\n",
       "      <td>49</td>\n",
       "      <td>49032</td>\n",
       "      <td>1</td>\n",
       "      <td>1</td>\n",
       "      <td>3</td>\n",
       "      <td>69000</td>\n",
       "      <td>...</td>\n",
       "      <td>XXXXX</td>\n",
       "      <td>20</td>\n",
       "      <td>1500</td>\n",
       "      <td>750</td>\n",
       "      <td>750</td>\n",
       "      <td>50</td>\n",
       "      <td>1500</td>\n",
       "      <td>750</td>\n",
       "      <td>2</td>\n",
       "      <td>187.31432</td>\n",
       "    </tr>\n",
       "    <tr>\n",
       "      <th>1</th>\n",
       "      <td>30000007</td>\n",
       "      <td>2</td>\n",
       "      <td>2004</td>\n",
       "      <td>13</td>\n",
       "      <td>49</td>\n",
       "      <td>49442</td>\n",
       "      <td>1</td>\n",
       "      <td>2</td>\n",
       "      <td>-8</td>\n",
       "      <td>164000</td>\n",
       "      <td>...</td>\n",
       "      <td>XXXXX</td>\n",
       "      <td>20</td>\n",
       "      <td>1500</td>\n",
       "      <td>750</td>\n",
       "      <td>750</td>\n",
       "      <td>50</td>\n",
       "      <td>1500</td>\n",
       "      <td>750</td>\n",
       "      <td>2</td>\n",
       "      <td>187.31432</td>\n",
       "    </tr>\n",
       "    <tr>\n",
       "      <th>2</th>\n",
       "      <td>30000007</td>\n",
       "      <td>3</td>\n",
       "      <td>1998</td>\n",
       "      <td>19</td>\n",
       "      <td>19</td>\n",
       "      <td>19014</td>\n",
       "      <td>1</td>\n",
       "      <td>1</td>\n",
       "      <td>1</td>\n",
       "      <td>120000</td>\n",
       "      <td>...</td>\n",
       "      <td>XXXXX</td>\n",
       "      <td>20</td>\n",
       "      <td>1500</td>\n",
       "      <td>750</td>\n",
       "      <td>750</td>\n",
       "      <td>50</td>\n",
       "      <td>1500</td>\n",
       "      <td>750</td>\n",
       "      <td>2</td>\n",
       "      <td>187.31432</td>\n",
       "    </tr>\n",
       "    <tr>\n",
       "      <th>3</th>\n",
       "      <td>30000007</td>\n",
       "      <td>4</td>\n",
       "      <td>1997</td>\n",
       "      <td>20</td>\n",
       "      <td>19</td>\n",
       "      <td>19021</td>\n",
       "      <td>1</td>\n",
       "      <td>1</td>\n",
       "      <td>2</td>\n",
       "      <td>-88</td>\n",
       "      <td>...</td>\n",
       "      <td>XXXXX</td>\n",
       "      <td>20</td>\n",
       "      <td>1500</td>\n",
       "      <td>750</td>\n",
       "      <td>750</td>\n",
       "      <td>50</td>\n",
       "      <td>1500</td>\n",
       "      <td>750</td>\n",
       "      <td>2</td>\n",
       "      <td>187.31432</td>\n",
       "    </tr>\n",
       "    <tr>\n",
       "      <th>4</th>\n",
       "      <td>30000007</td>\n",
       "      <td>5</td>\n",
       "      <td>1993</td>\n",
       "      <td>24</td>\n",
       "      <td>20</td>\n",
       "      <td>20481</td>\n",
       "      <td>1</td>\n",
       "      <td>4</td>\n",
       "      <td>2</td>\n",
       "      <td>300000</td>\n",
       "      <td>...</td>\n",
       "      <td>XXXXX</td>\n",
       "      <td>20</td>\n",
       "      <td>1500</td>\n",
       "      <td>750</td>\n",
       "      <td>750</td>\n",
       "      <td>50</td>\n",
       "      <td>1500</td>\n",
       "      <td>750</td>\n",
       "      <td>2</td>\n",
       "      <td>187.31432</td>\n",
       "    </tr>\n",
       "  </tbody>\n",
       "</table>\n",
       "<p>5 rows × 49 columns</p>\n",
       "</div>"
      ],
      "text/plain": [
       "    HOUSEID  VEHID  VEHYEAR  VEHAGE MAKE  MODEL  FUELTYPE  VEHTYPE  WHOMAIN  \\\n",
       "0  30000007      1     2007      10   49  49032         1        1        3   \n",
       "1  30000007      2     2004      13   49  49442         1        2       -8   \n",
       "2  30000007      3     1998      19   19  19014         1        1        1   \n",
       "3  30000007      4     1997      20   19  19021         1        1        2   \n",
       "4  30000007      5     1993      24   20  20481         1        4        2   \n",
       "\n",
       "   OD_READ    ...      HH_CBSA  HBHTNRNT  HBPPOPDN  HBRESDN  HTEEMPDN  \\\n",
       "0    69000    ...        XXXXX        20      1500      750       750   \n",
       "1   164000    ...        XXXXX        20      1500      750       750   \n",
       "2   120000    ...        XXXXX        20      1500      750       750   \n",
       "3      -88    ...        XXXXX        20      1500      750       750   \n",
       "4   300000    ...        XXXXX        20      1500      750       750   \n",
       "\n",
       "   HTHTNRNT  HTPPOPDN  HTRESDN  SMPLSRCE    WTHHFIN  \n",
       "0        50      1500      750         2  187.31432  \n",
       "1        50      1500      750         2  187.31432  \n",
       "2        50      1500      750         2  187.31432  \n",
       "3        50      1500      750         2  187.31432  \n",
       "4        50      1500      750         2  187.31432  \n",
       "\n",
       "[5 rows x 49 columns]"
      ]
     },
     "execution_count": 2,
     "metadata": {},
     "output_type": "execute_result"
    }
   ],
   "source": [
    "data = pd.read_csv('/Users/chengchen/Dropbox/NHTS_2018/data/NHTS2017/vehpub.csv')\n",
    "data.head()"
   ]
  },
  {
   "cell_type": "code",
   "execution_count": 3,
   "metadata": {
    "collapsed": false
   },
   "outputs": [
    {
     "data": {
      "text/plain": [
       "fueltype\n",
       "diesel                           5362\n",
       "gas                            170384\n",
       "hybrid/electric/alternative      4966\n",
       "Name: fueltype, dtype: int64"
      ]
     },
     "execution_count": 3,
     "metadata": {},
     "output_type": "execute_result"
    }
   ],
   "source": [
    "data = data[data.FUELTYPE<4] \n",
    "data = data[data.FUELTYPE>0] \n",
    "data = data[data.ANNMILES>0] \n",
    "data = data[data.HHFAMINC>0] \n",
    "data = data[data.HOMEOWN>0] \n",
    "data = data[data.VEHAGE>0] \n",
    "data = data[data.VEHTYPE>0]# drop the observations where some information is missing\n",
    "income_dic = {1:5000, 2:12500, 3:20000, 4:30000, 5:42500, 6:62500, 7:87500, 8:112500, 9: 137500, 10: 175000, 11:225000}\n",
    "data['income'] = data['HHFAMINC'].map(income_dic)\n",
    "# map the mean income amount of the income category in the survey\n",
    "home_dic = {1:1, 2:0, 97:0}\n",
    "# yes: owning home  no: not owning home\n",
    "data['homeown'] = data['HOMEOWN'].map(home_dic)\n",
    "urban_dic = {1:'urban_area',2:'urban_cluster',3:'near_urban',4:'not_urban'}\n",
    "data['urban'] = data['URBAN'].map(urban_dic)\n",
    "vehtype_dic = {1: 'car',2: 'van',3: 'SUV',4: 'pickup',5: 'truck',6: 'RV',7: 'motorcycle',97: 'else'}\n",
    "data['vehtype'] = data['VEHTYPE'].map(vehtype_dic)\n",
    "fueltype_dic = {1: 'gas', 2: 'diesel', 3: 'hybrid/electric/alternative'}\n",
    "data['fueltype'] = data['FUELTYPE'].map(fueltype_dic)\n",
    "data.groupby('fueltype')['fueltype'].count()\n"
   ]
  },
  {
   "cell_type": "code",
   "execution_count": 4,
   "metadata": {
    "collapsed": false
   },
   "outputs": [
    {
     "data": {
      "text/plain": [
       "fueltype\n",
       "diesel                         11247.242260\n",
       "gas                             9620.500235\n",
       "hybrid/electric/alternative    12308.237213\n",
       "Name: ANNMILES, dtype: float64"
      ]
     },
     "execution_count": 4,
     "metadata": {},
     "output_type": "execute_result"
    }
   ],
   "source": [
    "data.groupby('fueltype')['ANNMILES'].mean()"
   ]
  },
  {
   "cell_type": "markdown",
   "metadata": {},
   "source": [
    "Above shows the mean annual mileage of vehicles of different fuel types. As can be seen, the lower the fuel cost, the longer the mileage driven is."
   ]
  },
  {
   "cell_type": "code",
   "execution_count": 5,
   "metadata": {
    "collapsed": false
   },
   "outputs": [
    {
     "data": {
      "text/plain": [
       "fueltype                     hfuel         \n",
       "diesel                       NA                11247.242260\n",
       "gas                          NA                 9620.500235\n",
       "hybrid/electric/alternative  NA                12387.113208\n",
       "                             biodiesel         12541.944444\n",
       "                             electric           8235.281720\n",
       "                             hybrid            12874.606100\n",
       "                             plug-in hybrid    11516.482587\n",
       "Name: ANNMILES, dtype: float64"
      ]
     },
     "execution_count": 5,
     "metadata": {},
     "output_type": "execute_result"
    }
   ],
   "source": [
    "htype_dic = {1:  'biodiesel', 2:  'plug-in hybrid', 3:  'electric', 4:  'hybrid', -9: 'NA', -8: 'NA', -1: 'NA', 97: 'NA'}\n",
    "data['hfuel'] = data['HFUEL'].map(htype_dic)\n",
    "data.groupby(['fueltype','hfuel'])['ANNMILES'].mean()"
   ]
  },
  {
   "cell_type": "markdown",
   "metadata": {},
   "source": [
    "Within the category of energy efficient vehicle, annual mileage ranking is : <br>\n",
    "hybrid > biudiesel > plug-in hybrid > electric <br>\n",
    "(Battery size probably plays a role in limiting the mileage of pure electric vehicles.) <br>"
   ]
  },
  {
   "cell_type": "code",
   "execution_count": 6,
   "metadata": {
    "collapsed": false
   },
   "outputs": [
    {
     "data": {
      "text/plain": [
       "fueltype                     hfuel         \n",
       "diesel                       NA                1.173388\n",
       "gas                          NA                0.985955\n",
       "hybrid/electric/alternative  NA                1.284829\n",
       "                             biodiesel         1.306946\n",
       "                             electric          0.888567\n",
       "                             hybrid            1.351362\n",
       "                             plug-in hybrid    1.223351\n",
       "Name: relative_mile, dtype: float64"
      ]
     },
     "execution_count": 6,
     "metadata": {},
     "output_type": "execute_result"
    }
   ],
   "source": [
    "area_avg_mile = data.groupby(['HHSTATE','HH_CBSA'])['ANNMILES'].mean().to_frame()\n",
    "# average annual driving distance of each region (State + Core Based Statistical Area)\n",
    "data = pd.merge(data,area_avg_mile, how = 'right', left_on = ['HHSTATE','HH_CBSA'], right_index = True)\n",
    "# add as new column in the dataframe\n",
    "data = data.rename(columns = {'ANNMILES_x': 'ANNMILES', 'ANNMILES_y': 'area_avg_mile'})\n",
    "data['relative_mile'] = data['ANNMILES']/data['area_avg_mile']\n",
    "# this is relative driving milage, compared to the average level of the local area\n",
    "data.groupby(['fueltype','hfuel'])['relative_mile'].mean()\n"
   ]
  },
  {
   "cell_type": "markdown",
   "metadata": {},
   "source": [
    "Energy efficient vehicles are driven for more mileage compared to its local average levels.\n",
    "This further comfirms the driving behavior pattern. Until this stage we have looked at the general data pattern without handling the \"selection bias\" issue. We will try to deal with this problem using propensity score matching.<br><br>\n",
    "# Propensity Score Matching\n",
    "The following section will match the treatment/control groups:\n",
    "* treatment group: hybrid/electric/alternative vehicles\n",
    "* control group: gasoline/diesel vehicles\n",
    "They will be matched by both household and vehicle characteristics. The python package [pymatch](https://github.com/benmiroglio/pymatch) will be used here."
   ]
  },
  {
   "cell_type": "code",
   "execution_count": 7,
   "metadata": {
    "collapsed": false
   },
   "outputs": [
    {
     "name": "stdout",
     "output_type": "stream",
     "text": [
      "Formula:\n",
      "treatment ~ income+homeown+urban+vehtype+VEHAGE+HHSIZE+HHSTATE+HHVEHCNT\n",
      "n majority: 175746\n",
      "n minority: 4966\n"
     ]
    }
   ],
   "source": [
    "trt_dic = {1: False, 2: False,3: True}\n",
    "data['treatment'] = data['FUELTYPE'].map(trt_dic)\n",
    "fields = [\"income\", \"homeown\", \"urban\", \"vehtype\", \"VEHAGE\", \"HHSIZE\", \"HHSTATE\", \"HHVEHCNT\", \"treatment\", \"ANNMILES\"] \n",
    "data_match = data[fields]\n",
    "data_match.head()\n",
    "treatment = data_match[data_match.treatment == 1]\n",
    "control = data_match[data_match.treatment == 0]\n",
    "m = Matcher(treatment, control, yvar = \"treatment\", exclude = [\"ANNMILES\"])"
   ]
  },
  {
   "cell_type": "code",
   "execution_count": 8,
   "metadata": {
    "collapsed": false
   },
   "outputs": [
    {
     "name": "stdout",
     "output_type": "stream",
     "text": [
      "Fitting Models on Balanced Samples: 100\\100\n",
      "Average Accuracy: 76.45%\n"
     ]
    }
   ],
   "source": [
    "np.random.seed(1)\n",
    "m.fit_scores(balance = True, nmodels = 100)"
   ]
  },
  {
   "cell_type": "markdown",
   "metadata": {},
   "source": [
    "This step calculates the **propensity score** (probability of purchasing a clean energy vehicle).<br>\n",
    "The treatment group (minority) has 4966 obs, whereas control group (majority) has 175746 obs, rendering imbalanced sample. <br>\n",
    "Use \"balance = true\" so that when fitting logistic models, equal number of treatment and control samples are used.<br>\n",
    "Use \"nmodels = 100\" to randomly draw sample for 100 times, so that the logistic model will be fitted using more data points from the control group (the majority group).<br>\n",
    "    \n",
    "The **average accuracy** is 76.45%, suggesting a good fit of the model."
   ]
  },
  {
   "cell_type": "code",
   "execution_count": 9,
   "metadata": {
    "collapsed": false
   },
   "outputs": [],
   "source": [
    "m.predict_scores() # calculate p-score"
   ]
  },
  {
   "cell_type": "code",
   "execution_count": 10,
   "metadata": {
    "collapsed": false,
    "scrolled": true
   },
   "outputs": [
    {
     "data": {
      "image/png": "[encoded data removed]",
      "text/plain": [
       "<matplotlib.figure.Figure at 0x1181070b8>"
      ]
     },
     "metadata": {},
     "output_type": "display_data"
    }
   ],
   "source": [
    "m.plot_scores()"
   ]
  },
  {
   "cell_type": "markdown",
   "metadata": {},
   "source": [
    "The above step plot the p-score distribution of treatment group and control group. <br>\n",
    "For each p-score, there is positive chance of belonging to either group. (**common support**) <br>\n",
    "The treatment group has much higher scores than the control group. (**separability**) <br>\n",
    "Such evidence support the use of propensity score matching."
   ]
  },
  {
   "cell_type": "code",
   "execution_count": 11,
   "metadata": {
    "collapsed": false
   },
   "outputs": [
    {
     "data": {
      "image/png": "[encoded data removed]",
      "text/plain": [
       "<matplotlib.figure.Figure at 0x11decfa90>"
      ]
     },
     "metadata": {},
     "output_type": "display_data"
    }
   ],
   "source": [
    "m.tune_threshold(method='random')"
   ]
  },
  {
   "cell_type": "markdown",
   "metadata": {},
   "source": [
    "Tune threshold for matching:<br>\n",
    "From the graph: a threshold at 0.0003 will retain 100% of the data."
   ]
  },
  {
   "cell_type": "code",
   "execution_count": 13,
   "metadata": {
    "collapsed": false
   },
   "outputs": [
    {
     "data": {
      "text/html": [
       "<div>\n",
       "<table border=\"1\" class=\"dataframe\">\n",
       "  <thead>\n",
       "    <tr style=\"text-align: right;\">\n",
       "      <th></th>\n",
       "      <th>income</th>\n",
       "      <th>homeown</th>\n",
       "      <th>urban</th>\n",
       "      <th>vehtype</th>\n",
       "      <th>VEHAGE</th>\n",
       "      <th>HHSIZE</th>\n",
       "      <th>HHSTATE</th>\n",
       "      <th>HHVEHCNT</th>\n",
       "      <th>treatment</th>\n",
       "      <th>ANNMILES</th>\n",
       "      <th>scores</th>\n",
       "      <th>match_id</th>\n",
       "      <th>record_id</th>\n",
       "    </tr>\n",
       "  </thead>\n",
       "  <tbody>\n",
       "    <tr>\n",
       "      <th>0</th>\n",
       "      <td>62500</td>\n",
       "      <td>1</td>\n",
       "      <td>not_urban</td>\n",
       "      <td>car</td>\n",
       "      <td>7</td>\n",
       "      <td>2</td>\n",
       "      <td>NC</td>\n",
       "      <td>2</td>\n",
       "      <td>1</td>\n",
       "      <td>15000</td>\n",
       "      <td>0.578314</td>\n",
       "      <td>0</td>\n",
       "      <td>0</td>\n",
       "    </tr>\n",
       "    <tr>\n",
       "      <th>12165</th>\n",
       "      <td>62500</td>\n",
       "      <td>1</td>\n",
       "      <td>not_urban</td>\n",
       "      <td>car</td>\n",
       "      <td>7</td>\n",
       "      <td>2</td>\n",
       "      <td>NC</td>\n",
       "      <td>2</td>\n",
       "      <td>0</td>\n",
       "      <td>10000</td>\n",
       "      <td>0.578314</td>\n",
       "      <td>0</td>\n",
       "      <td>12165</td>\n",
       "    </tr>\n",
       "    <tr>\n",
       "      <th>1</th>\n",
       "      <td>112500</td>\n",
       "      <td>1</td>\n",
       "      <td>not_urban</td>\n",
       "      <td>car</td>\n",
       "      <td>12</td>\n",
       "      <td>3</td>\n",
       "      <td>NC</td>\n",
       "      <td>7</td>\n",
       "      <td>1</td>\n",
       "      <td>8571</td>\n",
       "      <td>0.368433</td>\n",
       "      <td>1</td>\n",
       "      <td>1</td>\n",
       "    </tr>\n",
       "    <tr>\n",
       "      <th>148095</th>\n",
       "      <td>20000</td>\n",
       "      <td>1</td>\n",
       "      <td>urban_cluster</td>\n",
       "      <td>car</td>\n",
       "      <td>11</td>\n",
       "      <td>2</td>\n",
       "      <td>AZ</td>\n",
       "      <td>5</td>\n",
       "      <td>0</td>\n",
       "      <td>12000</td>\n",
       "      <td>0.368417</td>\n",
       "      <td>1</td>\n",
       "      <td>148095</td>\n",
       "    </tr>\n",
       "    <tr>\n",
       "      <th>2</th>\n",
       "      <td>112500</td>\n",
       "      <td>1</td>\n",
       "      <td>urban_area</td>\n",
       "      <td>car</td>\n",
       "      <td>3</td>\n",
       "      <td>2</td>\n",
       "      <td>NC</td>\n",
       "      <td>2</td>\n",
       "      <td>1</td>\n",
       "      <td>8000</td>\n",
       "      <td>0.759758</td>\n",
       "      <td>2</td>\n",
       "      <td>2</td>\n",
       "    </tr>\n",
       "    <tr>\n",
       "      <th>143971</th>\n",
       "      <td>112500</td>\n",
       "      <td>1</td>\n",
       "      <td>urban_area</td>\n",
       "      <td>car</td>\n",
       "      <td>3</td>\n",
       "      <td>2</td>\n",
       "      <td>NC</td>\n",
       "      <td>2</td>\n",
       "      <td>0</td>\n",
       "      <td>10500</td>\n",
       "      <td>0.759758</td>\n",
       "      <td>2</td>\n",
       "      <td>143971</td>\n",
       "    </tr>\n",
       "  </tbody>\n",
       "</table>\n",
       "</div>"
      ],
      "text/plain": [
       "        income  homeown          urban vehtype  VEHAGE  HHSIZE HHSTATE  \\\n",
       "0        62500        1      not_urban     car       7       2      NC   \n",
       "12165    62500        1      not_urban     car       7       2      NC   \n",
       "1       112500        1      not_urban     car      12       3      NC   \n",
       "148095   20000        1  urban_cluster     car      11       2      AZ   \n",
       "2       112500        1     urban_area     car       3       2      NC   \n",
       "143971  112500        1     urban_area     car       3       2      NC   \n",
       "\n",
       "        HHVEHCNT  treatment  ANNMILES    scores  match_id  record_id  \n",
       "0              2          1     15000  0.578314         0          0  \n",
       "12165          2          0     10000  0.578314         0      12165  \n",
       "1              7          1      8571  0.368433         1          1  \n",
       "148095         5          0     12000  0.368417         1     148095  \n",
       "2              2          1      8000  0.759758         2          2  \n",
       "143971         2          0     10500  0.759758         2     143971  "
      ]
     },
     "execution_count": 13,
     "metadata": {},
     "output_type": "execute_result"
    }
   ],
   "source": [
    "m.match(method = \"min\", nmatches = 1, threshold = 0.0003)\n",
    "# matching the treatment data points with control data points\n",
    "m.matched_data.sort_values(\"match_id\").head(6)"
   ]
  },
  {
   "cell_type": "code",
   "execution_count": 14,
   "metadata": {
    "collapsed": false
   },
   "outputs": [
    {
     "data": {
      "text/html": [
       "<div>\n",
       "<table border=\"1\" class=\"dataframe\">\n",
       "  <thead>\n",
       "    <tr style=\"text-align: right;\">\n",
       "      <th></th>\n",
       "      <th>freq</th>\n",
       "      <th>n_records</th>\n",
       "    </tr>\n",
       "  </thead>\n",
       "  <tbody>\n",
       "    <tr>\n",
       "      <th>0</th>\n",
       "      <td>1</td>\n",
       "      <td>8278</td>\n",
       "    </tr>\n",
       "    <tr>\n",
       "      <th>1</th>\n",
       "      <td>2</td>\n",
       "      <td>414</td>\n",
       "    </tr>\n",
       "    <tr>\n",
       "      <th>2</th>\n",
       "      <td>3</td>\n",
       "      <td>100</td>\n",
       "    </tr>\n",
       "    <tr>\n",
       "      <th>3</th>\n",
       "      <td>4</td>\n",
       "      <td>35</td>\n",
       "    </tr>\n",
       "    <tr>\n",
       "      <th>4</th>\n",
       "      <td>5</td>\n",
       "      <td>19</td>\n",
       "    </tr>\n",
       "    <tr>\n",
       "      <th>5</th>\n",
       "      <td>6</td>\n",
       "      <td>16</td>\n",
       "    </tr>\n",
       "    <tr>\n",
       "      <th>6</th>\n",
       "      <td>7</td>\n",
       "      <td>6</td>\n",
       "    </tr>\n",
       "    <tr>\n",
       "      <th>7</th>\n",
       "      <td>8</td>\n",
       "      <td>1</td>\n",
       "    </tr>\n",
       "    <tr>\n",
       "      <th>8</th>\n",
       "      <td>9</td>\n",
       "      <td>3</td>\n",
       "    </tr>\n",
       "    <tr>\n",
       "      <th>9</th>\n",
       "      <td>10</td>\n",
       "      <td>2</td>\n",
       "    </tr>\n",
       "    <tr>\n",
       "      <th>10</th>\n",
       "      <td>11</td>\n",
       "      <td>5</td>\n",
       "    </tr>\n",
       "    <tr>\n",
       "      <th>11</th>\n",
       "      <td>13</td>\n",
       "      <td>1</td>\n",
       "    </tr>\n",
       "    <tr>\n",
       "      <th>12</th>\n",
       "      <td>14</td>\n",
       "      <td>1</td>\n",
       "    </tr>\n",
       "    <tr>\n",
       "      <th>13</th>\n",
       "      <td>16</td>\n",
       "      <td>1</td>\n",
       "    </tr>\n",
       "  </tbody>\n",
       "</table>\n",
       "</div>"
      ],
      "text/plain": [
       "    freq  n_records\n",
       "0      1       8278\n",
       "1      2        414\n",
       "2      3        100\n",
       "3      4         35\n",
       "4      5         19\n",
       "5      6         16\n",
       "6      7          6\n",
       "7      8          1\n",
       "8      9          3\n",
       "9     10          2\n",
       "10    11          5\n",
       "11    13          1\n",
       "12    14          1\n",
       "13    16          1"
      ]
     },
     "execution_count": 14,
     "metadata": {},
     "output_type": "execute_result"
    }
   ],
   "source": [
    "m.record_frequency()"
   ]
  },
  {
   "cell_type": "markdown",
   "metadata": {},
   "source": [
    "8278 of the matched majority group recors occur only once, 414 twice, etc.<br><br>\n",
    "Next we will assess the quality of the matching."
   ]
  },
  {
   "cell_type": "code",
   "execution_count": 17,
   "metadata": {
    "collapsed": false
   },
   "outputs": [
    {
     "data": {
      "text/html": [
       "<div>\n",
       "<table border=\"1\" class=\"dataframe\">\n",
       "  <thead>\n",
       "    <tr style=\"text-align: right;\">\n",
       "      <th></th>\n",
       "      <th>var</th>\n",
       "      <th>before</th>\n",
       "      <th>after</th>\n",
       "    </tr>\n",
       "  </thead>\n",
       "  <tbody>\n",
       "    <tr>\n",
       "      <th>0</th>\n",
       "      <td>urban</td>\n",
       "      <td>0.0</td>\n",
       "      <td>0.119381</td>\n",
       "    </tr>\n",
       "    <tr>\n",
       "      <th>1</th>\n",
       "      <td>vehtype</td>\n",
       "      <td>0.0</td>\n",
       "      <td>0.752881</td>\n",
       "    </tr>\n",
       "    <tr>\n",
       "      <th>2</th>\n",
       "      <td>HHSTATE</td>\n",
       "      <td>0.0</td>\n",
       "      <td>0.960683</td>\n",
       "    </tr>\n",
       "  </tbody>\n",
       "</table>\n",
       "</div>"
      ],
      "text/plain": [
       "       var  before     after\n",
       "0    urban     0.0  0.119381\n",
       "1  vehtype     0.0  0.752881\n",
       "2  HHSTATE     0.0  0.960683"
      ]
     },
     "execution_count": 17,
     "metadata": {},
     "output_type": "execute_result"
    }
   ],
   "source": [
    "categorical_results = m.compare_categorical(return_table = True)\n",
    "categorical_results"
   ]
  },
  {
   "cell_type": "markdown",
   "metadata": {},
   "source": [
    "Above results(pvalue) shows chi-square test for independence before and after matching. After matching we want this pvalue to be > 0.05, resulting in failure to reject the null hypothesis that the frequency of the enumerated term values are independent of the test and control grousps."
   ]
  },
  {
   "cell_type": "code",
   "execution_count": 18,
   "metadata": {
    "collapsed": true
   },
   "outputs": [],
   "source": [
    "cc = m.compare_continuous(return_table = True)"
   ]
  },
  {
   "cell_type": "code",
   "execution_count": 19,
   "metadata": {
    "collapsed": false
   },
   "outputs": [
    {
     "data": {
      "text/html": [
       "<div>\n",
       "<table border=\"1\" class=\"dataframe\">\n",
       "  <thead>\n",
       "    <tr style=\"text-align: right;\">\n",
       "      <th></th>\n",
       "      <th>var</th>\n",
       "      <th>ks_before</th>\n",
       "      <th>ks_after</th>\n",
       "      <th>grouped_chisqr_before</th>\n",
       "      <th>grouped_chisqr_after</th>\n",
       "      <th>std_median_diff_before</th>\n",
       "      <th>std_median_diff_after</th>\n",
       "      <th>std_mean_diff_before</th>\n",
       "      <th>std_mean_diff_after</th>\n",
       "    </tr>\n",
       "  </thead>\n",
       "  <tbody>\n",
       "    <tr>\n",
       "      <th>0</th>\n",
       "      <td>income</td>\n",
       "      <td>0.0</td>\n",
       "      <td>0.632</td>\n",
       "      <td>0.0</td>\n",
       "      <td>0.441</td>\n",
       "      <td>0.416377</td>\n",
       "      <td>0.00000</td>\n",
       "      <td>0.494024</td>\n",
       "      <td>0.005524</td>\n",
       "    </tr>\n",
       "    <tr>\n",
       "      <th>1</th>\n",
       "      <td>homeown</td>\n",
       "      <td>0.0</td>\n",
       "      <td>0.224</td>\n",
       "      <td>1.0</td>\n",
       "      <td>1.000</td>\n",
       "      <td>0.000000</td>\n",
       "      <td>0.00000</td>\n",
       "      <td>0.076510</td>\n",
       "      <td>-0.023737</td>\n",
       "    </tr>\n",
       "    <tr>\n",
       "      <th>2</th>\n",
       "      <td>VEHAGE</td>\n",
       "      <td>0.0</td>\n",
       "      <td>0.488</td>\n",
       "      <td>0.0</td>\n",
       "      <td>0.567</td>\n",
       "      <td>-0.501484</td>\n",
       "      <td>0.24207</td>\n",
       "      <td>-0.581891</td>\n",
       "      <td>-0.009603</td>\n",
       "    </tr>\n",
       "    <tr>\n",
       "      <th>3</th>\n",
       "      <td>HHSIZE</td>\n",
       "      <td>0.0</td>\n",
       "      <td>0.116</td>\n",
       "      <td>1.0</td>\n",
       "      <td>1.000</td>\n",
       "      <td>0.000000</td>\n",
       "      <td>0.00000</td>\n",
       "      <td>0.018855</td>\n",
       "      <td>0.048497</td>\n",
       "    </tr>\n",
       "    <tr>\n",
       "      <th>4</th>\n",
       "      <td>HHVEHCNT</td>\n",
       "      <td>0.0</td>\n",
       "      <td>0.874</td>\n",
       "      <td>1.0</td>\n",
       "      <td>1.000</td>\n",
       "      <td>0.000000</td>\n",
       "      <td>0.00000</td>\n",
       "      <td>-0.176163</td>\n",
       "      <td>0.011618</td>\n",
       "    </tr>\n",
       "  </tbody>\n",
       "</table>\n",
       "</div>"
      ],
      "text/plain": [
       "        var  ks_before  ks_after  grouped_chisqr_before  grouped_chisqr_after  \\\n",
       "0    income        0.0     0.632                    0.0                 0.441   \n",
       "1   homeown        0.0     0.224                    1.0                 1.000   \n",
       "2    VEHAGE        0.0     0.488                    0.0                 0.567   \n",
       "3    HHSIZE        0.0     0.116                    1.0                 1.000   \n",
       "4  HHVEHCNT        0.0     0.874                    1.0                 1.000   \n",
       "\n",
       "   std_median_diff_before  std_median_diff_after  std_mean_diff_before  \\\n",
       "0                0.416377                0.00000              0.494024   \n",
       "1                0.000000                0.00000              0.076510   \n",
       "2               -0.501484                0.24207             -0.581891   \n",
       "3                0.000000                0.00000              0.018855   \n",
       "4                0.000000                0.00000             -0.176163   \n",
       "\n",
       "   std_mean_diff_after  \n",
       "0             0.005524  \n",
       "1            -0.023737  \n",
       "2            -0.009603  \n",
       "3             0.048497  \n",
       "4             0.011618  "
      ]
     },
     "execution_count": 19,
     "metadata": {},
     "output_type": "execute_result"
    }
   ],
   "source": [
    "cc"
   ]
  },
  {
   "cell_type": "markdown",
   "metadata": {},
   "source": [
    "Tests included: Kolmogorov-Smirnov Goodness of fit Test (KS-test) and Chi-Square Distance. We want pvalues from both the KS-test and the grouped permutation of the Chi-Square distance after matching to be > 0.05, and they both are.<br><br>\n",
    "\n",
    "# Results\n",
    "Next we will assess the difference in driving distance of the treatment and control group."
   ]
  },
  {
   "cell_type": "markdown",
   "metadata": {},
   "source": [
    "Calculate the difference through linear regression:"
   ]
  },
  {
   "cell_type": "code",
   "execution_count": 22,
   "metadata": {
    "collapsed": false
   },
   "outputs": [
    {
     "name": "stdout",
     "output_type": "stream",
     "text": [
      "results from propensity score matching\n",
      "ATE: 1203.44791754\n",
      "standard error: 4.94245467924\n"
     ]
    }
   ],
   "source": [
    "covariates = [\"treatment\", \"income\", \"homeown\", \"VEHAGE\", \"HHSIZE\" ,\"HHVEHCNT\"] \n",
    "linmodel = sm.OLS(m.matched_data[\"ANNMILES\"], \n",
    "                  pd.concat([m.matched_data[covariates], \n",
    "                             pd.get_dummies(m.matched_data[\"HHSTATE\"]),\n",
    "                             pd.get_dummies(m.matched_data[\"urban\"]),\n",
    "                             pd.get_dummies(m.matched_data[\"vehtype\"])],axis=1)).fit()\n",
    "print('results from propensity score matching')\n",
    "print('ATE:',linmodel.params.treatment)\n",
    "print('standard error:',linmodel.tvalues.treatment)"
   ]
  },
  {
   "cell_type": "markdown",
   "metadata": {},
   "source": [
    "The above shows that energy efficient vehicles can induce 1203 miles more of annual driving distance, and the result is statistically significant."
   ]
  },
  {
   "cell_type": "code",
   "execution_count": 27,
   "metadata": {
    "collapsed": false
   },
   "outputs": [
    {
     "data": {
      "text/plain": [
       "2638.105175904215"
      ]
     },
     "execution_count": 27,
     "metadata": {},
     "output_type": "execute_result"
    }
   ],
   "source": [
    "unmatched1 = data[data['treatment']==1]['ANNMILES'].mean()\n",
    "unmatched0 = data[data['treatment']==0]['ANNMILES'].mean()\n",
    "unmatched1 - unmatched0"
   ]
  },
  {
   "cell_type": "markdown",
   "metadata": {},
   "source": [
    "The above is the raw difference of driving distance between two groups (without matching). This is greater than the matched result, providing evidence for selection bias: those who buy energy efficient vehicles probably drive more on average. Yet, the result from PSM indicates despite of such selection bias, buying an energy efficient vehicle will change people's driving behavior and induce more driving. <br><br>\n",
    "\n",
    "# More analysis\n",
    "Another question that policy makers might be interested in is \"Does this extra mileage of energy efficient vehicle substitute some mileage from other vehicles owned by the household?\".If total annual mileage of households who own energy efficient vehicles does not differ from similar households who do not own energy efficient vehicles, that might suggest subsitution between household vehicles. Therefore the following section will aggregate data to household level and conduct similar matching procedure to households.\n",
    " "
   ]
  },
  {
   "cell_type": "code",
   "execution_count": 28,
   "metadata": {
    "collapsed": true
   },
   "outputs": [],
   "source": [
    "hh_total_mile = data.groupby(['HOUSEID'])['ANNMILES'].sum() \\\n",
    "    .to_frame().rename(columns = {'ANNMILES': 'hh_total_mile'})\n",
    "hh_own_clean_veh = ((data.groupby(['HOUSEID'])['treatment'].sum()>0) \\\n",
    "    .to_frame()*1).rename(columns = {'treatment': 'hh_own_clean_veh'})\n",
    "n_clean_veh = data.groupby(['HOUSEID'])['treatment'].sum() \\\n",
    "    .to_frame().rename(columns = {'treatment': 'n_clean_veh'})\n",
    "data_hh = pd.merge(data, hh_total_mile, how = 'inner', left_on = ['HOUSEID'], right_index = True)\n",
    "data_hh = pd.merge(data_hh, hh_own_clean_veh, how = 'inner', left_on = ['HOUSEID'], right_index = True)\n",
    "data_hh = pd.merge(data_hh, n_clean_veh, how = 'inner', left_on = ['HOUSEID'], right_index = True)\n",
    "data_hh = data_hh.drop_duplicates(['HOUSEID'], keep='first')\n",
    "data_hh = data_hh[data_hh['NUMADLT']>0]\n",
    "data_hh['mile_per_adult'] = data_hh['hh_total_mile']/data_hh['NUMADLT']\n",
    "data_hh['num_children'] = data_hh['HHSIZE'] - data_hh['NUMADLT']"
   ]
  },
  {
   "cell_type": "code",
   "execution_count": 29,
   "metadata": {
    "collapsed": false
   },
   "outputs": [
    {
     "name": "stdout",
     "output_type": "stream",
     "text": [
      "Formula:\n",
      "hh_own_clean_veh ~ income+homeown+urban+HHSIZE+HHSTATE+HHVEHCNT+num_children\n",
      "n majority: 90974\n",
      "n minority: 4568\n"
     ]
    }
   ],
   "source": [
    "fields = [\"income\", \"homeown\", \"urban\", \"HHSIZE\", \"HHSTATE\", \"HHVEHCNT\", \"hh_own_clean_veh\", \"hh_total_mile\",\"n_clean_veh\", \"mile_per_adult\", \"num_children\"] \n",
    "data_match = data_hh[fields]\n",
    "data_match.head()\n",
    "treatment = data_match[data_match.hh_own_clean_veh == 1]\n",
    "control = data_match[data_match.hh_own_clean_veh == 0]\n",
    "m = Matcher(treatment, control, yvar = \"hh_own_clean_veh\", exclude = [\"hh_total_mile\",\"n_clean_veh\",\"mile_per_adult\"])\n"
   ]
  },
  {
   "cell_type": "code",
   "execution_count": 31,
   "metadata": {
    "collapsed": false
   },
   "outputs": [
    {
     "name": "stdout",
     "output_type": "stream",
     "text": [
      "Fitting Models on Balanced Samples: 100\\100\n",
      "Average Accuracy: 64.91%\n"
     ]
    }
   ],
   "source": [
    "np.random.seed(1)\n",
    "m.fit_scores(balance = True, nmodels = 100)\n",
    "# average accuracy: 64.91%\n"
   ]
  },
  {
   "cell_type": "code",
   "execution_count": 32,
   "metadata": {
    "collapsed": false
   },
   "outputs": [
    {
     "data": {
      "image/png": "[encoded data removed]",
      "text/plain": [
       "<matplotlib.figure.Figure at 0x11ea49128>"
      ]
     },
     "metadata": {},
     "output_type": "display_data"
    }
   ],
   "source": [
    "m.predict_scores() # calculate p-score\n",
    "m.plot_scores()"
   ]
  },
  {
   "cell_type": "code",
   "execution_count": 33,
   "metadata": {
    "collapsed": false
   },
   "outputs": [
    {
     "data": {
      "image/png": "[encoded data removed]",
      "text/plain": [
       "<matplotlib.figure.Figure at 0x15f07c278>"
      ]
     },
     "metadata": {},
     "output_type": "display_data"
    }
   ],
   "source": [
    "m.tune_threshold(method='random')"
   ]
  },
  {
   "cell_type": "code",
   "execution_count": 34,
   "metadata": {
    "collapsed": true
   },
   "outputs": [],
   "source": [
    "m.match(method = \"min\", nmatches = 1, threshold = 0.0008)"
   ]
  },
  {
   "cell_type": "code",
   "execution_count": 35,
   "metadata": {
    "collapsed": false
   },
   "outputs": [
    {
     "data": {
      "text/html": [
       "<div>\n",
       "<table border=\"1\" class=\"dataframe\">\n",
       "  <thead>\n",
       "    <tr style=\"text-align: right;\">\n",
       "      <th></th>\n",
       "      <th>income</th>\n",
       "      <th>homeown</th>\n",
       "      <th>urban</th>\n",
       "      <th>HHSIZE</th>\n",
       "      <th>HHSTATE</th>\n",
       "      <th>HHVEHCNT</th>\n",
       "      <th>hh_own_clean_veh</th>\n",
       "      <th>hh_total_mile</th>\n",
       "      <th>n_clean_veh</th>\n",
       "      <th>mile_per_adult</th>\n",
       "      <th>num_children</th>\n",
       "      <th>scores</th>\n",
       "      <th>match_id</th>\n",
       "      <th>record_id</th>\n",
       "    </tr>\n",
       "  </thead>\n",
       "  <tbody>\n",
       "    <tr>\n",
       "      <th>0</th>\n",
       "      <td>62500</td>\n",
       "      <td>1</td>\n",
       "      <td>not_urban</td>\n",
       "      <td>2</td>\n",
       "      <td>NC</td>\n",
       "      <td>2</td>\n",
       "      <td>1</td>\n",
       "      <td>20000</td>\n",
       "      <td>1.0</td>\n",
       "      <td>10000.000000</td>\n",
       "      <td>0</td>\n",
       "      <td>0.372852</td>\n",
       "      <td>0</td>\n",
       "      <td>0</td>\n",
       "    </tr>\n",
       "    <tr>\n",
       "      <th>8288</th>\n",
       "      <td>62500</td>\n",
       "      <td>1</td>\n",
       "      <td>not_urban</td>\n",
       "      <td>2</td>\n",
       "      <td>NC</td>\n",
       "      <td>2</td>\n",
       "      <td>0</td>\n",
       "      <td>10000</td>\n",
       "      <td>0.0</td>\n",
       "      <td>5000.000000</td>\n",
       "      <td>0</td>\n",
       "      <td>0.372852</td>\n",
       "      <td>0</td>\n",
       "      <td>8288</td>\n",
       "    </tr>\n",
       "    <tr>\n",
       "      <th>1</th>\n",
       "      <td>112500</td>\n",
       "      <td>1</td>\n",
       "      <td>not_urban</td>\n",
       "      <td>3</td>\n",
       "      <td>NC</td>\n",
       "      <td>7</td>\n",
       "      <td>1</td>\n",
       "      <td>65374</td>\n",
       "      <td>1.0</td>\n",
       "      <td>21791.333333</td>\n",
       "      <td>0</td>\n",
       "      <td>0.554536</td>\n",
       "      <td>1</td>\n",
       "      <td>1</td>\n",
       "    </tr>\n",
       "    <tr>\n",
       "      <th>8861</th>\n",
       "      <td>112500</td>\n",
       "      <td>1</td>\n",
       "      <td>not_urban</td>\n",
       "      <td>3</td>\n",
       "      <td>NC</td>\n",
       "      <td>7</td>\n",
       "      <td>0</td>\n",
       "      <td>45850</td>\n",
       "      <td>0.0</td>\n",
       "      <td>15283.333333</td>\n",
       "      <td>0</td>\n",
       "      <td>0.554536</td>\n",
       "      <td>1</td>\n",
       "      <td>8861</td>\n",
       "    </tr>\n",
       "    <tr>\n",
       "      <th>2</th>\n",
       "      <td>112500</td>\n",
       "      <td>1</td>\n",
       "      <td>urban_area</td>\n",
       "      <td>2</td>\n",
       "      <td>NC</td>\n",
       "      <td>2</td>\n",
       "      <td>1</td>\n",
       "      <td>20000</td>\n",
       "      <td>2.0</td>\n",
       "      <td>10000.000000</td>\n",
       "      <td>0</td>\n",
       "      <td>0.540142</td>\n",
       "      <td>2</td>\n",
       "      <td>2</td>\n",
       "    </tr>\n",
       "    <tr>\n",
       "      <th>6376</th>\n",
       "      <td>112500</td>\n",
       "      <td>1</td>\n",
       "      <td>urban_area</td>\n",
       "      <td>2</td>\n",
       "      <td>NC</td>\n",
       "      <td>2</td>\n",
       "      <td>0</td>\n",
       "      <td>12800</td>\n",
       "      <td>0.0</td>\n",
       "      <td>6400.000000</td>\n",
       "      <td>0</td>\n",
       "      <td>0.540142</td>\n",
       "      <td>2</td>\n",
       "      <td>6376</td>\n",
       "    </tr>\n",
       "  </tbody>\n",
       "</table>\n",
       "</div>"
      ],
      "text/plain": [
       "      income  homeown       urban  HHSIZE HHSTATE  HHVEHCNT  hh_own_clean_veh  \\\n",
       "0      62500        1   not_urban       2      NC         2                 1   \n",
       "8288   62500        1   not_urban       2      NC         2                 0   \n",
       "1     112500        1   not_urban       3      NC         7                 1   \n",
       "8861  112500        1   not_urban       3      NC         7                 0   \n",
       "2     112500        1  urban_area       2      NC         2                 1   \n",
       "6376  112500        1  urban_area       2      NC         2                 0   \n",
       "\n",
       "      hh_total_mile  n_clean_veh  mile_per_adult  num_children    scores  \\\n",
       "0             20000          1.0    10000.000000             0  0.372852   \n",
       "8288          10000          0.0     5000.000000             0  0.372852   \n",
       "1             65374          1.0    21791.333333             0  0.554536   \n",
       "8861          45850          0.0    15283.333333             0  0.554536   \n",
       "2             20000          2.0    10000.000000             0  0.540142   \n",
       "6376          12800          0.0     6400.000000             0  0.540142   \n",
       "\n",
       "      match_id  record_id  \n",
       "0            0          0  \n",
       "8288         0       8288  \n",
       "1            1          1  \n",
       "8861         1       8861  \n",
       "2            2          2  \n",
       "6376         2       6376  "
      ]
     },
     "execution_count": 35,
     "metadata": {},
     "output_type": "execute_result"
    }
   ],
   "source": [
    "m.matched_data.sort_values(\"match_id\").head(6)"
   ]
  },
  {
   "cell_type": "code",
   "execution_count": 36,
   "metadata": {
    "collapsed": false
   },
   "outputs": [
    {
     "data": {
      "text/html": [
       "<div>\n",
       "<table border=\"1\" class=\"dataframe\">\n",
       "  <thead>\n",
       "    <tr style=\"text-align: right;\">\n",
       "      <th></th>\n",
       "      <th>freq</th>\n",
       "      <th>n_records</th>\n",
       "    </tr>\n",
       "  </thead>\n",
       "  <tbody>\n",
       "    <tr>\n",
       "      <th>0</th>\n",
       "      <td>1</td>\n",
       "      <td>6169</td>\n",
       "    </tr>\n",
       "    <tr>\n",
       "      <th>1</th>\n",
       "      <td>2</td>\n",
       "      <td>323</td>\n",
       "    </tr>\n",
       "    <tr>\n",
       "      <th>2</th>\n",
       "      <td>3</td>\n",
       "      <td>105</td>\n",
       "    </tr>\n",
       "    <tr>\n",
       "      <th>3</th>\n",
       "      <td>4</td>\n",
       "      <td>54</td>\n",
       "    </tr>\n",
       "    <tr>\n",
       "      <th>4</th>\n",
       "      <td>5</td>\n",
       "      <td>39</td>\n",
       "    </tr>\n",
       "    <tr>\n",
       "      <th>5</th>\n",
       "      <td>6</td>\n",
       "      <td>15</td>\n",
       "    </tr>\n",
       "    <tr>\n",
       "      <th>6</th>\n",
       "      <td>7</td>\n",
       "      <td>22</td>\n",
       "    </tr>\n",
       "    <tr>\n",
       "      <th>7</th>\n",
       "      <td>8</td>\n",
       "      <td>20</td>\n",
       "    </tr>\n",
       "    <tr>\n",
       "      <th>8</th>\n",
       "      <td>9</td>\n",
       "      <td>15</td>\n",
       "    </tr>\n",
       "    <tr>\n",
       "      <th>9</th>\n",
       "      <td>10</td>\n",
       "      <td>12</td>\n",
       "    </tr>\n",
       "    <tr>\n",
       "      <th>10</th>\n",
       "      <td>11</td>\n",
       "      <td>7</td>\n",
       "    </tr>\n",
       "    <tr>\n",
       "      <th>11</th>\n",
       "      <td>12</td>\n",
       "      <td>2</td>\n",
       "    </tr>\n",
       "    <tr>\n",
       "      <th>12</th>\n",
       "      <td>13</td>\n",
       "      <td>2</td>\n",
       "    </tr>\n",
       "    <tr>\n",
       "      <th>13</th>\n",
       "      <td>14</td>\n",
       "      <td>1</td>\n",
       "    </tr>\n",
       "    <tr>\n",
       "      <th>14</th>\n",
       "      <td>15</td>\n",
       "      <td>3</td>\n",
       "    </tr>\n",
       "    <tr>\n",
       "      <th>15</th>\n",
       "      <td>16</td>\n",
       "      <td>4</td>\n",
       "    </tr>\n",
       "    <tr>\n",
       "      <th>16</th>\n",
       "      <td>17</td>\n",
       "      <td>2</td>\n",
       "    </tr>\n",
       "    <tr>\n",
       "      <th>17</th>\n",
       "      <td>18</td>\n",
       "      <td>2</td>\n",
       "    </tr>\n",
       "    <tr>\n",
       "      <th>18</th>\n",
       "      <td>19</td>\n",
       "      <td>1</td>\n",
       "    </tr>\n",
       "    <tr>\n",
       "      <th>19</th>\n",
       "      <td>21</td>\n",
       "      <td>1</td>\n",
       "    </tr>\n",
       "    <tr>\n",
       "      <th>20</th>\n",
       "      <td>23</td>\n",
       "      <td>1</td>\n",
       "    </tr>\n",
       "    <tr>\n",
       "      <th>21</th>\n",
       "      <td>24</td>\n",
       "      <td>1</td>\n",
       "    </tr>\n",
       "    <tr>\n",
       "      <th>22</th>\n",
       "      <td>27</td>\n",
       "      <td>2</td>\n",
       "    </tr>\n",
       "    <tr>\n",
       "      <th>23</th>\n",
       "      <td>28</td>\n",
       "      <td>1</td>\n",
       "    </tr>\n",
       "    <tr>\n",
       "      <th>24</th>\n",
       "      <td>30</td>\n",
       "      <td>1</td>\n",
       "    </tr>\n",
       "    <tr>\n",
       "      <th>25</th>\n",
       "      <td>33</td>\n",
       "      <td>1</td>\n",
       "    </tr>\n",
       "    <tr>\n",
       "      <th>26</th>\n",
       "      <td>34</td>\n",
       "      <td>2</td>\n",
       "    </tr>\n",
       "    <tr>\n",
       "      <th>27</th>\n",
       "      <td>36</td>\n",
       "      <td>1</td>\n",
       "    </tr>\n",
       "    <tr>\n",
       "      <th>28</th>\n",
       "      <td>38</td>\n",
       "      <td>1</td>\n",
       "    </tr>\n",
       "    <tr>\n",
       "      <th>29</th>\n",
       "      <td>41</td>\n",
       "      <td>1</td>\n",
       "    </tr>\n",
       "    <tr>\n",
       "      <th>30</th>\n",
       "      <td>54</td>\n",
       "      <td>1</td>\n",
       "    </tr>\n",
       "    <tr>\n",
       "      <th>31</th>\n",
       "      <td>65</td>\n",
       "      <td>1</td>\n",
       "    </tr>\n",
       "    <tr>\n",
       "      <th>32</th>\n",
       "      <td>82</td>\n",
       "      <td>1</td>\n",
       "    </tr>\n",
       "  </tbody>\n",
       "</table>\n",
       "</div>"
      ],
      "text/plain": [
       "    freq  n_records\n",
       "0      1       6169\n",
       "1      2        323\n",
       "2      3        105\n",
       "3      4         54\n",
       "4      5         39\n",
       "5      6         15\n",
       "6      7         22\n",
       "7      8         20\n",
       "8      9         15\n",
       "9     10         12\n",
       "10    11          7\n",
       "11    12          2\n",
       "12    13          2\n",
       "13    14          1\n",
       "14    15          3\n",
       "15    16          4\n",
       "16    17          2\n",
       "17    18          2\n",
       "18    19          1\n",
       "19    21          1\n",
       "20    23          1\n",
       "21    24          1\n",
       "22    27          2\n",
       "23    28          1\n",
       "24    30          1\n",
       "25    33          1\n",
       "26    34          2\n",
       "27    36          1\n",
       "28    38          1\n",
       "29    41          1\n",
       "30    54          1\n",
       "31    65          1\n",
       "32    82          1"
      ]
     },
     "execution_count": 36,
     "metadata": {},
     "output_type": "execute_result"
    }
   ],
   "source": [
    "m.record_frequency()"
   ]
  },
  {
   "cell_type": "code",
   "execution_count": 37,
   "metadata": {
    "collapsed": false
   },
   "outputs": [
    {
     "data": {
      "text/html": [
       "<div>\n",
       "<table border=\"1\" class=\"dataframe\">\n",
       "  <thead>\n",
       "    <tr style=\"text-align: right;\">\n",
       "      <th></th>\n",
       "      <th>var</th>\n",
       "      <th>before</th>\n",
       "      <th>after</th>\n",
       "    </tr>\n",
       "  </thead>\n",
       "  <tbody>\n",
       "    <tr>\n",
       "      <th>0</th>\n",
       "      <td>urban</td>\n",
       "      <td>0.0</td>\n",
       "      <td>0.845934</td>\n",
       "    </tr>\n",
       "    <tr>\n",
       "      <th>1</th>\n",
       "      <td>HHSTATE</td>\n",
       "      <td>0.0</td>\n",
       "      <td>0.999939</td>\n",
       "    </tr>\n",
       "  </tbody>\n",
       "</table>\n",
       "</div>"
      ],
      "text/plain": [
       "       var  before     after\n",
       "0    urban     0.0  0.845934\n",
       "1  HHSTATE     0.0  0.999939"
      ]
     },
     "execution_count": 37,
     "metadata": {},
     "output_type": "execute_result"
    }
   ],
   "source": [
    "categorical_results = m.compare_categorical(return_table = True)\n",
    "categorical_results"
   ]
  },
  {
   "cell_type": "code",
   "execution_count": 38,
   "metadata": {
    "collapsed": false
   },
   "outputs": [
    {
     "data": {
      "text/html": [
       "<div>\n",
       "<table border=\"1\" class=\"dataframe\">\n",
       "  <thead>\n",
       "    <tr style=\"text-align: right;\">\n",
       "      <th></th>\n",
       "      <th>var</th>\n",
       "      <th>ks_before</th>\n",
       "      <th>ks_after</th>\n",
       "      <th>grouped_chisqr_before</th>\n",
       "      <th>grouped_chisqr_after</th>\n",
       "      <th>std_median_diff_before</th>\n",
       "      <th>std_median_diff_after</th>\n",
       "      <th>std_mean_diff_before</th>\n",
       "      <th>std_mean_diff_after</th>\n",
       "    </tr>\n",
       "  </thead>\n",
       "  <tbody>\n",
       "    <tr>\n",
       "      <th>0</th>\n",
       "      <td>income</td>\n",
       "      <td>0.0</td>\n",
       "      <td>0.998</td>\n",
       "      <td>0.0</td>\n",
       "      <td>0.998</td>\n",
       "      <td>0.856976</td>\n",
       "      <td>0.0</td>\n",
       "      <td>0.645195</td>\n",
       "      <td>0.005165</td>\n",
       "    </tr>\n",
       "    <tr>\n",
       "      <th>1</th>\n",
       "      <td>homeown</td>\n",
       "      <td>0.0</td>\n",
       "      <td>0.899</td>\n",
       "      <td>1.0</td>\n",
       "      <td>1.000</td>\n",
       "      <td>0.000000</td>\n",
       "      <td>0.0</td>\n",
       "      <td>0.180183</td>\n",
       "      <td>-0.003286</td>\n",
       "    </tr>\n",
       "    <tr>\n",
       "      <th>2</th>\n",
       "      <td>HHSIZE</td>\n",
       "      <td>0.0</td>\n",
       "      <td>0.512</td>\n",
       "      <td>1.0</td>\n",
       "      <td>1.000</td>\n",
       "      <td>0.000000</td>\n",
       "      <td>0.0</td>\n",
       "      <td>0.182328</td>\n",
       "      <td>0.024008</td>\n",
       "    </tr>\n",
       "    <tr>\n",
       "      <th>3</th>\n",
       "      <td>HHVEHCNT</td>\n",
       "      <td>0.0</td>\n",
       "      <td>0.842</td>\n",
       "      <td>1.0</td>\n",
       "      <td>1.000</td>\n",
       "      <td>0.000000</td>\n",
       "      <td>0.0</td>\n",
       "      <td>0.210103</td>\n",
       "      <td>0.019599</td>\n",
       "    </tr>\n",
       "    <tr>\n",
       "      <th>4</th>\n",
       "      <td>num_children</td>\n",
       "      <td>0.0</td>\n",
       "      <td>0.287</td>\n",
       "      <td>1.0</td>\n",
       "      <td>1.000</td>\n",
       "      <td>0.000000</td>\n",
       "      <td>0.0</td>\n",
       "      <td>0.059526</td>\n",
       "      <td>0.014982</td>\n",
       "    </tr>\n",
       "  </tbody>\n",
       "</table>\n",
       "</div>"
      ],
      "text/plain": [
       "            var  ks_before  ks_after  grouped_chisqr_before  \\\n",
       "0        income        0.0     0.998                    0.0   \n",
       "1       homeown        0.0     0.899                    1.0   \n",
       "2        HHSIZE        0.0     0.512                    1.0   \n",
       "3      HHVEHCNT        0.0     0.842                    1.0   \n",
       "4  num_children        0.0     0.287                    1.0   \n",
       "\n",
       "   grouped_chisqr_after  std_median_diff_before  std_median_diff_after  \\\n",
       "0                 0.998                0.856976                    0.0   \n",
       "1                 1.000                0.000000                    0.0   \n",
       "2                 1.000                0.000000                    0.0   \n",
       "3                 1.000                0.000000                    0.0   \n",
       "4                 1.000                0.000000                    0.0   \n",
       "\n",
       "   std_mean_diff_before  std_mean_diff_after  \n",
       "0              0.645195             0.005165  \n",
       "1              0.180183            -0.003286  \n",
       "2              0.182328             0.024008  \n",
       "3              0.210103             0.019599  \n",
       "4              0.059526             0.014982  "
      ]
     },
     "execution_count": 38,
     "metadata": {},
     "output_type": "execute_result"
    }
   ],
   "source": [
    "cc = m.compare_continuous(return_table = True)\n",
    "cc"
   ]
  },
  {
   "cell_type": "code",
   "execution_count": 42,
   "metadata": {
    "collapsed": false
   },
   "outputs": [
    {
     "name": "stdout",
     "output_type": "stream",
     "text": [
      "the effect of owning a clean vehicle on household miles driven\n",
      "ATE: 1729.01924946\n",
      "standard error: 4.45509371037\n"
     ]
    }
   ],
   "source": [
    "covariates = [\"hh_own_clean_veh\", \"income\", \"homeown\", \"HHSIZE\" ,\"HHVEHCNT\"] \n",
    "linmodel = sm.OLS(m.matched_data[\"hh_total_mile\"], \n",
    "                  pd.concat([m.matched_data[covariates], \n",
    "                             pd.get_dummies(m.matched_data[\"HHSTATE\"]),\n",
    "                             pd.get_dummies(m.matched_data[\"urban\"])],axis=1)).fit()\n",
    "print('the effect of owning a clean vehicle on household miles driven')\n",
    "print('ATE:',linmodel.params.hh_own_clean_veh)\n",
    "print('standard error:',linmodel.tvalues.hh_own_clean_veh)"
   ]
  },
  {
   "cell_type": "code",
   "execution_count": 43,
   "metadata": {
    "collapsed": false
   },
   "outputs": [
    {
     "name": "stdout",
     "output_type": "stream",
     "text": [
      "the effect of owning one more clean vehicle on household miles driven\n",
      "ATE: 1779.57031899\n",
      "standard error: 5.34001409422\n"
     ]
    }
   ],
   "source": [
    "# use \"number of clean vehicle\" as independent var instead\n",
    "covariates2 = [\"n_clean_veh\", \"income\", \"homeown\", \"HHSIZE\" ,\"HHVEHCNT\"] \n",
    "linmodel2 = sm.OLS(m.matched_data[\"hh_total_mile\"], \n",
    "                  pd.concat([m.matched_data[covariates2], \n",
    "                             pd.get_dummies(m.matched_data[\"HHSTATE\"]),\n",
    "                             pd.get_dummies(m.matched_data[\"urban\"])],axis=1)).fit()\n",
    "print('the effect of owning one more clean vehicle on household miles driven')\n",
    "print('ATE:',linmodel2.params.n_clean_veh)\n",
    "print('standard error:',linmodel2.tvalues.n_clean_veh)"
   ]
  },
  {
   "cell_type": "code",
   "execution_count": 44,
   "metadata": {
    "collapsed": false
   },
   "outputs": [
    {
     "name": "stdout",
     "output_type": "stream",
     "text": [
      "the effect of owning a clean vehicle on miles driven per adult in the household\n",
      "ATE: 881.540124761\n",
      "standard error: 3.80814019464\n"
     ]
    }
   ],
   "source": [
    "\n",
    "# use \"mile per adult\" as dependent var, \"own clean veh dummy\" as independent var\n",
    "covariates3 = [\"hh_own_clean_veh\", \"income\", \"homeown\", \"num_children\" ,\"HHVEHCNT\"] \n",
    "linmodel3 = sm.OLS(m.matched_data[\"mile_per_adult\"], \n",
    "                  pd.concat([m.matched_data[covariates3], \n",
    "                             pd.get_dummies(m.matched_data[\"HHSTATE\"]),\n",
    "                             pd.get_dummies(m.matched_data[\"urban\"])],axis=1)).fit()\n",
    "print('the effect of owning a clean vehicle on miles driven per adult in the household')\n",
    "print('ATE:',linmodel3.params.hh_own_clean_veh)\n",
    "print('standard error:',linmodel3.tvalues.hh_own_clean_veh)"
   ]
  },
  {
   "cell_type": "markdown",
   "metadata": {},
   "source": [
    "Findout from this section: \n",
    "* Households that purchase clean vehicles are driving more annual miles,which does not support the substitution effect evidence. \n",
    "* Individuals in households with clean energy vehicles are driving more miles, which is consistent with the above results. <br><br>\n",
    "\n",
    "Combining the results, we can assert that owning an energy efficient vehicle leads to more driving, and this does not substitute the mileage of other vehicles owned by the household. The **rebound effect does exist for energy efficient vehicles**. "
   ]
  },
  {
   "cell_type": "code",
   "execution_count": null,
   "metadata": {
    "collapsed": true
   },
   "outputs": [],
   "source": []
  }
 ],
 "metadata": {
  "kernelspec": {
   "display_name": "Python 3",
   "language": "python",
   "name": "python3"
  },
  "language_info": {
   "codemirror_mode": {
    "name": "ipython",
    "version": 3
   },
   "file_extension": ".py",
   "mimetype": "text/x-python",
   "name": "python",
   "nbconvert_exporter": "python",
   "pygments_lexer": "ipython3",
   "version": "3.6.0"
  }
 },
 "nbformat": 4,
 "nbformat_minor": 2
}
